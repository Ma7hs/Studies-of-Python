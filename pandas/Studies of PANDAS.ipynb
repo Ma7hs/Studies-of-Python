{
 "cells": [
  {
   "cell_type": "code",
   "execution_count": 123,
   "id": "9589bec1",
   "metadata": {},
   "outputs": [
    {
     "data": {
      "text/html": [
       "<div>\n",
       "<style scoped>\n",
       "    .dataframe tbody tr th:only-of-type {\n",
       "        vertical-align: middle;\n",
       "    }\n",
       "\n",
       "    .dataframe tbody tr th {\n",
       "        vertical-align: top;\n",
       "    }\n",
       "\n",
       "    .dataframe thead th {\n",
       "        text-align: right;\n",
       "    }\n",
       "</style>\n",
       "<table border=\"1\" class=\"dataframe\">\n",
       "  <thead>\n",
       "    <tr style=\"text-align: right;\">\n",
       "      <th></th>\n",
       "      <th>Curso</th>\n",
       "      <th>Escola_Senai</th>\n",
       "      <th>Vagas</th>\n",
       "    </tr>\n",
       "  </thead>\n",
       "  <tbody>\n",
       "    <tr>\n",
       "      <th>0</th>\n",
       "      <td>Eletroeletônica</td>\n",
       "      <td>Jandira</td>\n",
       "      <td>32</td>\n",
       "    </tr>\n",
       "    <tr>\n",
       "      <th>1</th>\n",
       "      <td>Desenvolvimento de Sistemas</td>\n",
       "      <td>Barueri</td>\n",
       "      <td>32</td>\n",
       "    </tr>\n",
       "    <tr>\n",
       "      <th>2</th>\n",
       "      <td>Mecânica</td>\n",
       "      <td>Osasco</td>\n",
       "      <td>64</td>\n",
       "    </tr>\n",
       "    <tr>\n",
       "      <th>3</th>\n",
       "      <td>Redes</td>\n",
       "      <td>Leopoldina</td>\n",
       "      <td>16</td>\n",
       "    </tr>\n",
       "  </tbody>\n",
       "</table>\n",
       "</div>"
      ],
      "text/plain": [
       "                         Curso Escola_Senai  Vagas\n",
       "0              Eletroeletônica      Jandira     32\n",
       "1  Desenvolvimento de Sistemas      Barueri     32\n",
       "2                     Mecânica       Osasco     64\n",
       "3                        Redes   Leopoldina     16"
      ]
     },
     "execution_count": 123,
     "metadata": {},
     "output_type": "execute_result"
    }
   ],
   "source": [
    "# Exemplo de tabela\n",
    "\n",
    "import pandas as pd\n",
    "tabelaValores = {\n",
    "    'Curso':['Eletroeletônica', 'Desenvolvimento de Sistemas', 'Mecânica', 'Redes'],\n",
    "    'Escola_Senai':['Jandira','Barueri','Osasco','Leopoldina'],\n",
    "    'Vagas':[32,32,64,16],\n",
    "}\n",
    "\n",
    "criandoDataFrame = pd.DataFrame(tabelaValores, columns=['Curso','Escola_Senai', 'Vagas'])\n",
    "criandoDataFrame"
   ]
  },
  {
   "cell_type": "code",
   "execution_count": 124,
   "id": "573db370",
   "metadata": {},
   "outputs": [
    {
     "data": {
      "text/html": [
       "<div>\n",
       "<style scoped>\n",
       "    .dataframe tbody tr th:only-of-type {\n",
       "        vertical-align: middle;\n",
       "    }\n",
       "\n",
       "    .dataframe tbody tr th {\n",
       "        vertical-align: top;\n",
       "    }\n",
       "\n",
       "    .dataframe thead th {\n",
       "        text-align: right;\n",
       "    }\n",
       "</style>\n",
       "<table border=\"1\" class=\"dataframe\">\n",
       "  <thead>\n",
       "    <tr style=\"text-align: right;\">\n",
       "      <th></th>\n",
       "      <th>Curso</th>\n",
       "      <th>Escola_Senai</th>\n",
       "      <th>Vagas</th>\n",
       "    </tr>\n",
       "  </thead>\n",
       "  <tbody>\n",
       "    <tr>\n",
       "      <th>0</th>\n",
       "      <td>Eletroeletônica</td>\n",
       "      <td>Jandira</td>\n",
       "      <td>32</td>\n",
       "    </tr>\n",
       "    <tr>\n",
       "      <th>1</th>\n",
       "      <td>Desenvolvimento de Sistemas</td>\n",
       "      <td>Barueri</td>\n",
       "      <td>32</td>\n",
       "    </tr>\n",
       "  </tbody>\n",
       "</table>\n",
       "</div>"
      ],
      "text/plain": [
       "                         Curso Escola_Senai  Vagas\n",
       "0              Eletroeletônica      Jandira     32\n",
       "1  Desenvolvimento de Sistemas      Barueri     32"
      ]
     },
     "execution_count": 124,
     "metadata": {},
     "output_type": "execute_result"
    }
   ],
   "source": [
    "# Se eu quero apenas alguns primeiros elementos do DataFrame .head() -> pode colocar o index que quiser dentro do ()\n",
    "criandoDataFrame.head(2)"
   ]
  },
  {
   "cell_type": "code",
   "execution_count": 125,
   "id": "d6771047",
   "metadata": {},
   "outputs": [
    {
     "data": {
      "text/html": [
       "<div>\n",
       "<style scoped>\n",
       "    .dataframe tbody tr th:only-of-type {\n",
       "        vertical-align: middle;\n",
       "    }\n",
       "\n",
       "    .dataframe tbody tr th {\n",
       "        vertical-align: top;\n",
       "    }\n",
       "\n",
       "    .dataframe thead th {\n",
       "        text-align: right;\n",
       "    }\n",
       "</style>\n",
       "<table border=\"1\" class=\"dataframe\">\n",
       "  <thead>\n",
       "    <tr style=\"text-align: right;\">\n",
       "      <th></th>\n",
       "      <th>Curso</th>\n",
       "      <th>Escola_Senai</th>\n",
       "      <th>Vagas</th>\n",
       "    </tr>\n",
       "  </thead>\n",
       "  <tbody>\n",
       "    <tr>\n",
       "      <th>3</th>\n",
       "      <td>Redes</td>\n",
       "      <td>Leopoldina</td>\n",
       "      <td>16</td>\n",
       "    </tr>\n",
       "  </tbody>\n",
       "</table>\n",
       "</div>"
      ],
      "text/plain": [
       "   Curso Escola_Senai  Vagas\n",
       "3  Redes   Leopoldina     16"
      ]
     },
     "execution_count": 125,
     "metadata": {},
     "output_type": "execute_result"
    }
   ],
   "source": [
    "# Se eu quero apenas os ultimos elementos do meu DataFrame .tail() -> pode colocar a quantidade de elementos finais ()\n",
    "criandoDataFrame.tail(1)"
   ]
  },
  {
   "cell_type": "code",
   "execution_count": 126,
   "id": "873238c0",
   "metadata": {
    "scrolled": true
   },
   "outputs": [
    {
     "data": {
      "text/plain": [
       "(4, 3)"
      ]
     },
     "execution_count": 126,
     "metadata": {},
     "output_type": "execute_result"
    }
   ],
   "source": [
    "# .shape passa as informações sobre o DataFrame (linhas, colunas)\n",
    "criandoDataFrame.shape"
   ]
  },
  {
   "cell_type": "code",
   "execution_count": 90,
   "id": "7a8805bf",
   "metadata": {},
   "outputs": [
    {
     "data": {
      "text/plain": [
       "RangeIndex(start=0, stop=4, step=1)"
      ]
     },
     "execution_count": 90,
     "metadata": {},
     "output_type": "execute_result"
    }
   ],
   "source": [
    "# .index passa a descrição do index (indice)\n",
    "criandoDataFrame.index"
   ]
  },
  {
   "cell_type": "code",
   "execution_count": 91,
   "id": "5408216d",
   "metadata": {},
   "outputs": [
    {
     "data": {
      "text/plain": [
       "<bound method DataFrame.count of                          Curso Escola_Senai  Vagas\n",
       "0              Eletroeletônica      Jandira     32\n",
       "1  Desenvolvimento de Sistemas      Barueri     32\n",
       "2                     Mecânica       Osasco     64\n",
       "3                        Redes   Leopoldina     16>"
      ]
     },
     "execution_count": 91,
     "metadata": {},
     "output_type": "execute_result"
    }
   ],
   "source": [
    "# .count faz a contagem de dados não nulos(ausentes)\n",
    "criandoDataFrame.count"
   ]
  },
  {
   "cell_type": "code",
   "execution_count": 92,
   "id": "ca251e77",
   "metadata": {},
   "outputs": [
    {
     "data": {
      "text/html": [
       "<div>\n",
       "<style scoped>\n",
       "    .dataframe tbody tr th:only-of-type {\n",
       "        vertical-align: middle;\n",
       "    }\n",
       "\n",
       "    .dataframe tbody tr th {\n",
       "        vertical-align: top;\n",
       "    }\n",
       "\n",
       "    .dataframe thead th {\n",
       "        text-align: right;\n",
       "    }\n",
       "</style>\n",
       "<table border=\"1\" class=\"dataframe\">\n",
       "  <thead>\n",
       "    <tr style=\"text-align: right;\">\n",
       "      <th></th>\n",
       "      <th>Curso</th>\n",
       "      <th>Escola_Senai</th>\n",
       "      <th>Vagas</th>\n",
       "      <th>Nota_aprovacao</th>\n",
       "      <th>Ausentes</th>\n",
       "    </tr>\n",
       "  </thead>\n",
       "  <tbody>\n",
       "    <tr>\n",
       "      <th>0</th>\n",
       "      <td>Eletroeletônica</td>\n",
       "      <td>Jandira</td>\n",
       "      <td>32</td>\n",
       "      <td>None</td>\n",
       "      <td>None</td>\n",
       "    </tr>\n",
       "    <tr>\n",
       "      <th>1</th>\n",
       "      <td>Desenvolvimento de Sistemas</td>\n",
       "      <td>Barueri</td>\n",
       "      <td>32</td>\n",
       "      <td>None</td>\n",
       "      <td>None</td>\n",
       "    </tr>\n",
       "    <tr>\n",
       "      <th>2</th>\n",
       "      <td>Mecânica</td>\n",
       "      <td>Osasco</td>\n",
       "      <td>64</td>\n",
       "      <td>None</td>\n",
       "      <td>None</td>\n",
       "    </tr>\n",
       "    <tr>\n",
       "      <th>3</th>\n",
       "      <td>Redes</td>\n",
       "      <td>Leopoldina</td>\n",
       "      <td>16</td>\n",
       "      <td>None</td>\n",
       "      <td>None</td>\n",
       "    </tr>\n",
       "  </tbody>\n",
       "</table>\n",
       "</div>"
      ],
      "text/plain": [
       "                         Curso Escola_Senai  Vagas Nota_aprovacao Ausentes\n",
       "0              Eletroeletônica      Jandira     32           None     None\n",
       "1  Desenvolvimento de Sistemas      Barueri     32           None     None\n",
       "2                     Mecânica       Osasco     64           None     None\n",
       "3                        Redes   Leopoldina     16           None     None"
      ]
     },
     "execution_count": 92,
     "metadata": {},
     "output_type": "execute_result"
    }
   ],
   "source": [
    "    # Criando uma nova coluna no DataFrame\n",
    "\n",
    "    criandoDataFrame['Nota_aprovacao'] = None\n",
    "    criandoDataFrame['Ausentes'] = None\n",
    "    criandoDataFrame"
   ]
  },
  {
   "cell_type": "code",
   "execution_count": 93,
   "id": "e5daa2da",
   "metadata": {},
   "outputs": [
    {
     "data": {
      "text/html": [
       "<div>\n",
       "<style scoped>\n",
       "    .dataframe tbody tr th:only-of-type {\n",
       "        vertical-align: middle;\n",
       "    }\n",
       "\n",
       "    .dataframe tbody tr th {\n",
       "        vertical-align: top;\n",
       "    }\n",
       "\n",
       "    .dataframe thead th {\n",
       "        text-align: right;\n",
       "    }\n",
       "</style>\n",
       "<table border=\"1\" class=\"dataframe\">\n",
       "  <thead>\n",
       "    <tr style=\"text-align: right;\">\n",
       "      <th></th>\n",
       "      <th>Curso</th>\n",
       "      <th>Escola_Senai</th>\n",
       "      <th>Vagas</th>\n",
       "      <th>Nota_aprovacao</th>\n",
       "      <th>Ausentes</th>\n",
       "    </tr>\n",
       "  </thead>\n",
       "  <tbody>\n",
       "    <tr>\n",
       "      <th>0</th>\n",
       "      <td>Eletroeletônica</td>\n",
       "      <td>Jandira</td>\n",
       "      <td>32</td>\n",
       "      <td>None</td>\n",
       "      <td>None</td>\n",
       "    </tr>\n",
       "    <tr>\n",
       "      <th>1</th>\n",
       "      <td>Desenvolvimento de Sistemas</td>\n",
       "      <td>Barueri</td>\n",
       "      <td>32</td>\n",
       "      <td>None</td>\n",
       "      <td>None</td>\n",
       "    </tr>\n",
       "    <tr>\n",
       "      <th>2</th>\n",
       "      <td>Mecânica</td>\n",
       "      <td>Osasco</td>\n",
       "      <td>64</td>\n",
       "      <td>None</td>\n",
       "      <td>None</td>\n",
       "    </tr>\n",
       "    <tr>\n",
       "      <th>3</th>\n",
       "      <td>Redes</td>\n",
       "      <td>Leopoldina</td>\n",
       "      <td>16</td>\n",
       "      <td>None</td>\n",
       "      <td>None</td>\n",
       "    </tr>\n",
       "  </tbody>\n",
       "</table>\n",
       "</div>"
      ],
      "text/plain": [
       "                         Curso Escola_Senai  Vagas Nota_aprovacao Ausentes\n",
       "0              Eletroeletônica      Jandira     32           None     None\n",
       "1  Desenvolvimento de Sistemas      Barueri     32           None     None\n",
       "2                     Mecânica       Osasco     64           None     None\n",
       "3                        Redes   Leopoldina     16           None     None"
      ]
     },
     "execution_count": 93,
     "metadata": {},
     "output_type": "execute_result"
    }
   ],
   "source": [
    "# Criando uma nova coluna no DataFrame\n",
    "\n",
    "criandoDataFrame.drop(columns=['Ausentes'])\n",
    "criandoDataFrame"
   ]
  },
  {
   "cell_type": "code",
   "execution_count": 102,
   "id": "59f501a3",
   "metadata": {},
   "outputs": [
    {
     "data": {
      "text/html": [
       "<div>\n",
       "<style scoped>\n",
       "    .dataframe tbody tr th:only-of-type {\n",
       "        vertical-align: middle;\n",
       "    }\n",
       "\n",
       "    .dataframe tbody tr th {\n",
       "        vertical-align: top;\n",
       "    }\n",
       "\n",
       "    .dataframe thead th {\n",
       "        text-align: right;\n",
       "    }\n",
       "</style>\n",
       "<table border=\"1\" class=\"dataframe\">\n",
       "  <thead>\n",
       "    <tr style=\"text-align: right;\">\n",
       "      <th></th>\n",
       "      <th>Curso</th>\n",
       "      <th>Escola_Senai</th>\n",
       "      <th>Vagas</th>\n",
       "      <th>Nota_aprovacao</th>\n",
       "    </tr>\n",
       "  </thead>\n",
       "  <tbody>\n",
       "    <tr>\n",
       "      <th>0</th>\n",
       "      <td>Eletroeletônica</td>\n",
       "      <td>Jandira</td>\n",
       "      <td>32</td>\n",
       "      <td>None</td>\n",
       "    </tr>\n",
       "    <tr>\n",
       "      <th>1</th>\n",
       "      <td>Desenvolvimento de Sistemas</td>\n",
       "      <td>Barueri</td>\n",
       "      <td>32</td>\n",
       "      <td>None</td>\n",
       "    </tr>\n",
       "    <tr>\n",
       "      <th>2</th>\n",
       "      <td>Mecânica</td>\n",
       "      <td>Osasco</td>\n",
       "      <td>64</td>\n",
       "      <td>None</td>\n",
       "    </tr>\n",
       "    <tr>\n",
       "      <th>3</th>\n",
       "      <td>Redes</td>\n",
       "      <td>Leopoldina</td>\n",
       "      <td>16</td>\n",
       "      <td>None</td>\n",
       "    </tr>\n",
       "  </tbody>\n",
       "</table>\n",
       "</div>"
      ],
      "text/plain": [
       "                         Curso Escola_Senai  Vagas Nota_aprovacao\n",
       "0              Eletroeletônica      Jandira     32           None\n",
       "1  Desenvolvimento de Sistemas      Barueri     32           None\n",
       "2                     Mecânica       Osasco     64           None\n",
       "3                        Redes   Leopoldina     16           None"
      ]
     },
     "execution_count": 102,
     "metadata": {},
     "output_type": "execute_result"
    }
   ],
   "source": [
    "# Percebeu que não mudou nada no DataFrame? Isso se dá pois devemos criar uma nova variavel\n",
    "\n",
    "# Criando uma nova variavel e aplicando a função .drop(columns=[])\n",
    "\n",
    "novoData = criandoDataFrame\n",
    "novoData = novoData.drop(columns=['Ausentes'])\n",
    "novoData"
   ]
  },
  {
   "cell_type": "code",
   "execution_count": 103,
   "id": "ad44b50f",
   "metadata": {},
   "outputs": [
    {
     "data": {
      "text/html": [
       "<div>\n",
       "<style scoped>\n",
       "    .dataframe tbody tr th:only-of-type {\n",
       "        vertical-align: middle;\n",
       "    }\n",
       "\n",
       "    .dataframe tbody tr th {\n",
       "        vertical-align: top;\n",
       "    }\n",
       "\n",
       "    .dataframe thead th {\n",
       "        text-align: right;\n",
       "    }\n",
       "</style>\n",
       "<table border=\"1\" class=\"dataframe\">\n",
       "  <thead>\n",
       "    <tr style=\"text-align: right;\">\n",
       "      <th></th>\n",
       "      <th>Curso</th>\n",
       "      <th>Escola_Senai</th>\n",
       "      <th>Vagas</th>\n",
       "      <th>Nota_aprovacao</th>\n",
       "    </tr>\n",
       "  </thead>\n",
       "  <tbody>\n",
       "    <tr>\n",
       "      <th>0</th>\n",
       "      <td>Eletroeletônica</td>\n",
       "      <td>Jandira</td>\n",
       "      <td>32</td>\n",
       "      <td>120</td>\n",
       "    </tr>\n",
       "    <tr>\n",
       "      <th>1</th>\n",
       "      <td>Desenvolvimento de Sistemas</td>\n",
       "      <td>Barueri</td>\n",
       "      <td>32</td>\n",
       "      <td>150</td>\n",
       "    </tr>\n",
       "    <tr>\n",
       "      <th>2</th>\n",
       "      <td>Mecânica</td>\n",
       "      <td>Osasco</td>\n",
       "      <td>64</td>\n",
       "      <td>90</td>\n",
       "    </tr>\n",
       "    <tr>\n",
       "      <th>3</th>\n",
       "      <td>Redes</td>\n",
       "      <td>Leopoldina</td>\n",
       "      <td>16</td>\n",
       "      <td>120</td>\n",
       "    </tr>\n",
       "  </tbody>\n",
       "</table>\n",
       "</div>"
      ],
      "text/plain": [
       "                         Curso Escola_Senai  Vagas Nota_aprovacao\n",
       "0              Eletroeletônica      Jandira     32            120\n",
       "1  Desenvolvimento de Sistemas      Barueri     32            150\n",
       "2                     Mecânica       Osasco     64             90\n",
       "3                        Redes   Leopoldina     16            120"
      ]
     },
     "execution_count": 103,
     "metadata": {},
     "output_type": "execute_result"
    }
   ],
   "source": [
    "# Adicionando valores no DataFrame\n",
    "novoData.loc[0,'Nota_aprovacao'] = 120\n",
    "novoData.loc[1,'Nota_aprovacao'] = 150\n",
    "novoData.loc[2,'Nota_aprovacao'] = 90\n",
    "novoData.loc[3,'Nota_aprovacao'] = 120\n",
    "novoData"
   ]
  },
  {
   "cell_type": "code",
   "execution_count": 115,
   "id": "99ddf9e4",
   "metadata": {},
   "outputs": [
    {
     "data": {
      "text/html": [
       "<div>\n",
       "<style scoped>\n",
       "    .dataframe tbody tr th:only-of-type {\n",
       "        vertical-align: middle;\n",
       "    }\n",
       "\n",
       "    .dataframe tbody tr th {\n",
       "        vertical-align: top;\n",
       "    }\n",
       "\n",
       "    .dataframe thead th {\n",
       "        text-align: right;\n",
       "    }\n",
       "</style>\n",
       "<table border=\"1\" class=\"dataframe\">\n",
       "  <thead>\n",
       "    <tr style=\"text-align: right;\">\n",
       "      <th></th>\n",
       "      <th>Curso</th>\n",
       "      <th>Escola_Senai</th>\n",
       "      <th>Vagas</th>\n",
       "      <th>Nota_aprovacao</th>\n",
       "    </tr>\n",
       "  </thead>\n",
       "  <tbody>\n",
       "    <tr>\n",
       "      <th>0</th>\n",
       "      <td>Eletroeletônica</td>\n",
       "      <td>Jandira</td>\n",
       "      <td>32.0</td>\n",
       "      <td>120</td>\n",
       "    </tr>\n",
       "    <tr>\n",
       "      <th>1</th>\n",
       "      <td>Desenvolvimento de Sistemas</td>\n",
       "      <td>Barueri</td>\n",
       "      <td>32.0</td>\n",
       "      <td>150</td>\n",
       "    </tr>\n",
       "    <tr>\n",
       "      <th>2</th>\n",
       "      <td>Mecânica</td>\n",
       "      <td>Osasco</td>\n",
       "      <td>64.0</td>\n",
       "      <td>90</td>\n",
       "    </tr>\n",
       "    <tr>\n",
       "      <th>3</th>\n",
       "      <td>Redes</td>\n",
       "      <td>Leopoldina</td>\n",
       "      <td>16.0</td>\n",
       "      <td>120</td>\n",
       "    </tr>\n",
       "    <tr>\n",
       "      <th>4</th>\n",
       "      <td>Gráfica</td>\n",
       "      <td>Barueri</td>\n",
       "      <td>30.0</td>\n",
       "      <td>100</td>\n",
       "    </tr>\n",
       "  </tbody>\n",
       "</table>\n",
       "</div>"
      ],
      "text/plain": [
       "                         Curso Escola_Senai  Vagas Nota_aprovacao\n",
       "0              Eletroeletônica      Jandira   32.0            120\n",
       "1  Desenvolvimento de Sistemas      Barueri   32.0            150\n",
       "2                     Mecânica       Osasco   64.0             90\n",
       "3                        Redes   Leopoldina   16.0            120\n",
       "4                      Gráfica      Barueri   30.0            100"
      ]
     },
     "execution_count": 115,
     "metadata": {},
     "output_type": "execute_result"
    }
   ],
   "source": [
    "# Adicionando uma nova linha no DataFrame\n",
    "\n",
    "novoData.loc[4,:] = ['Gráfica','Barueri',30,100]\n",
    "novoData"
   ]
  },
  {
   "cell_type": "code",
   "execution_count": 97,
   "id": "19796ec5",
   "metadata": {},
   "outputs": [],
   "source": [
    "# Operadores lógicos \n",
    "# & -> and\n",
    "# | -> or\n",
    "# "
   ]
  },
  {
   "cell_type": "code",
   "execution_count": 99,
   "id": "1c48064a",
   "metadata": {},
   "outputs": [
    {
     "data": {
      "text/html": [
       "<div>\n",
       "<style scoped>\n",
       "    .dataframe tbody tr th:only-of-type {\n",
       "        vertical-align: middle;\n",
       "    }\n",
       "\n",
       "    .dataframe tbody tr th {\n",
       "        vertical-align: top;\n",
       "    }\n",
       "\n",
       "    .dataframe thead th {\n",
       "        text-align: right;\n",
       "    }\n",
       "</style>\n",
       "<table border=\"1\" class=\"dataframe\">\n",
       "  <thead>\n",
       "    <tr style=\"text-align: right;\">\n",
       "      <th></th>\n",
       "      <th>Curso</th>\n",
       "      <th>Escola_Senai</th>\n",
       "      <th>Vagas</th>\n",
       "      <th>Nota_aprovacao</th>\n",
       "    </tr>\n",
       "  </thead>\n",
       "  <tbody>\n",
       "    <tr>\n",
       "      <th>0</th>\n",
       "      <td>Eletroeletônica</td>\n",
       "      <td>Jandira</td>\n",
       "      <td>32.0</td>\n",
       "      <td>120</td>\n",
       "    </tr>\n",
       "    <tr>\n",
       "      <th>1</th>\n",
       "      <td>Desenvolvimento de Sistemas</td>\n",
       "      <td>Barueri</td>\n",
       "      <td>32.0</td>\n",
       "      <td>150</td>\n",
       "    </tr>\n",
       "  </tbody>\n",
       "</table>\n",
       "</div>"
      ],
      "text/plain": [
       "                         Curso Escola_Senai  Vagas Nota_aprovacao\n",
       "0              Eletroeletônica      Jandira   32.0            120\n",
       "1  Desenvolvimento de Sistemas      Barueri   32.0            150"
      ]
     },
     "execution_count": 99,
     "metadata": {},
     "output_type": "execute_result"
    }
   ],
   "source": [
    "# Adicionando filtros para nosso DataFrame com & (filtrando valores)\n",
    "\n",
    "filtroData = novoData[(novoData['Nota_aprovacao'] >= 120) & (novoData['Vagas'] >= 32)]\n",
    "filtroData\n"
   ]
  },
  {
   "cell_type": "code",
   "execution_count": 100,
   "id": "b7b776b6",
   "metadata": {},
   "outputs": [
    {
     "data": {
      "text/html": [
       "<div>\n",
       "<style scoped>\n",
       "    .dataframe tbody tr th:only-of-type {\n",
       "        vertical-align: middle;\n",
       "    }\n",
       "\n",
       "    .dataframe tbody tr th {\n",
       "        vertical-align: top;\n",
       "    }\n",
       "\n",
       "    .dataframe thead th {\n",
       "        text-align: right;\n",
       "    }\n",
       "</style>\n",
       "<table border=\"1\" class=\"dataframe\">\n",
       "  <thead>\n",
       "    <tr style=\"text-align: right;\">\n",
       "      <th></th>\n",
       "      <th>Curso</th>\n",
       "      <th>Escola_Senai</th>\n",
       "      <th>Vagas</th>\n",
       "      <th>Nota_aprovacao</th>\n",
       "    </tr>\n",
       "  </thead>\n",
       "  <tbody>\n",
       "    <tr>\n",
       "      <th>0</th>\n",
       "      <td>Eletroeletônica</td>\n",
       "      <td>Jandira</td>\n",
       "      <td>32.0</td>\n",
       "      <td>120</td>\n",
       "    </tr>\n",
       "    <tr>\n",
       "      <th>1</th>\n",
       "      <td>Desenvolvimento de Sistemas</td>\n",
       "      <td>Barueri</td>\n",
       "      <td>32.0</td>\n",
       "      <td>150</td>\n",
       "    </tr>\n",
       "    <tr>\n",
       "      <th>2</th>\n",
       "      <td>Mecânica</td>\n",
       "      <td>Osasco</td>\n",
       "      <td>64.0</td>\n",
       "      <td>90</td>\n",
       "    </tr>\n",
       "    <tr>\n",
       "      <th>3</th>\n",
       "      <td>Redes</td>\n",
       "      <td>Leopoldina</td>\n",
       "      <td>16.0</td>\n",
       "      <td>120</td>\n",
       "    </tr>\n",
       "  </tbody>\n",
       "</table>\n",
       "</div>"
      ],
      "text/plain": [
       "                         Curso Escola_Senai  Vagas Nota_aprovacao\n",
       "0              Eletroeletônica      Jandira   32.0            120\n",
       "1  Desenvolvimento de Sistemas      Barueri   32.0            150\n",
       "2                     Mecânica       Osasco   64.0             90\n",
       "3                        Redes   Leopoldina   16.0            120"
      ]
     },
     "execution_count": 100,
     "metadata": {},
     "output_type": "execute_result"
    }
   ],
   "source": [
    "# Filtro feito com OR | tendo aprovações diferentes quando usamos o & AND\n",
    "\n",
    "filtroData = novoData[(novoData['Nota_aprovacao'] > 100) | (novoData['Vagas'] >= 32)]\n",
    "filtroData"
   ]
  },
  {
   "cell_type": "code",
   "execution_count": 101,
   "id": "5563031c",
   "metadata": {},
   "outputs": [
    {
     "data": {
      "text/html": [
       "<div>\n",
       "<style scoped>\n",
       "    .dataframe tbody tr th:only-of-type {\n",
       "        vertical-align: middle;\n",
       "    }\n",
       "\n",
       "    .dataframe tbody tr th {\n",
       "        vertical-align: top;\n",
       "    }\n",
       "\n",
       "    .dataframe thead th {\n",
       "        text-align: right;\n",
       "    }\n",
       "</style>\n",
       "<table border=\"1\" class=\"dataframe\">\n",
       "  <thead>\n",
       "    <tr style=\"text-align: right;\">\n",
       "      <th></th>\n",
       "      <th>Curso</th>\n",
       "      <th>Escola_Senai</th>\n",
       "      <th>Vagas</th>\n",
       "      <th>Nota_aprovacao</th>\n",
       "    </tr>\n",
       "  </thead>\n",
       "  <tbody>\n",
       "    <tr>\n",
       "      <th>0</th>\n",
       "      <td>Eletroeletônica</td>\n",
       "      <td>Jandira</td>\n",
       "      <td>32.0</td>\n",
       "      <td>120</td>\n",
       "    </tr>\n",
       "    <tr>\n",
       "      <th>1</th>\n",
       "      <td>Desenvolvimento de Sistemas</td>\n",
       "      <td>Barueri</td>\n",
       "      <td>32.0</td>\n",
       "      <td>150</td>\n",
       "    </tr>\n",
       "    <tr>\n",
       "      <th>2</th>\n",
       "      <td>Mecânica</td>\n",
       "      <td>Osasco</td>\n",
       "      <td>64.0</td>\n",
       "      <td>90</td>\n",
       "    </tr>\n",
       "    <tr>\n",
       "      <th>3</th>\n",
       "      <td>Redes</td>\n",
       "      <td>Leopoldina</td>\n",
       "      <td>16.0</td>\n",
       "      <td>120</td>\n",
       "    </tr>\n",
       "    <tr>\n",
       "      <th>4</th>\n",
       "      <td>Gráfica</td>\n",
       "      <td>Barueri</td>\n",
       "      <td>30.0</td>\n",
       "      <td>100</td>\n",
       "    </tr>\n",
       "  </tbody>\n",
       "</table>\n",
       "</div>"
      ],
      "text/plain": [
       "                         Curso Escola_Senai  Vagas Nota_aprovacao\n",
       "0              Eletroeletônica      Jandira   32.0            120\n",
       "1  Desenvolvimento de Sistemas      Barueri   32.0            150\n",
       "2                     Mecânica       Osasco   64.0             90\n",
       "3                        Redes   Leopoldina   16.0            120\n",
       "4                      Gráfica      Barueri   30.0            100"
      ]
     },
     "execution_count": 101,
     "metadata": {},
     "output_type": "execute_result"
    }
   ],
   "source": [
    "# Podemos usar o .query() mas não deve-se usar o operador lógico, tem que escrever em forma de string.\n",
    "\n",
    "novoData.query('Nota_aprovacao>=120 and Vagas >=32')\n",
    "novoData"
   ]
  },
  {
   "cell_type": "code",
   "execution_count": 108,
   "id": "f2d90b5d",
   "metadata": {},
   "outputs": [
    {
     "name": "stderr",
     "output_type": "stream",
     "text": [
      "C:\\Users\\Cris\\AppData\\Local\\Temp/ipykernel_18180/3135489506.py:2: FutureWarning: Dropping of nuisance columns in DataFrame reductions (with 'numeric_only=None') is deprecated; in a future version this will raise TypeError.  Select only valid columns before calling the reduction.\n",
      "  desvioData = novoData.std(axis=0)\n"
     ]
    },
    {
     "data": {
      "text/plain": [
       "Vagas             17.640862\n",
       "Nota_aprovacao    23.021729\n",
       "dtype: float64"
      ]
     },
     "execution_count": 108,
     "metadata": {},
     "output_type": "execute_result"
    }
   ],
   "source": [
    "# Desvio padrão entre Vagas e Nota_aprovacao\n",
    "desvioData = novoData.std(axis=0)\n",
    "desvioData"
   ]
  },
  {
   "cell_type": "code",
   "execution_count": 109,
   "id": "9ab8f0af",
   "metadata": {},
   "outputs": [
    {
     "name": "stderr",
     "output_type": "stream",
     "text": [
      "C:\\Users\\Cris\\AppData\\Local\\Temp/ipykernel_18180/2503928999.py:1: FutureWarning: Dropping of nuisance columns in DataFrame reductions (with 'numeric_only=None') is deprecated; in a future version this will raise TypeError.  Select only valid columns before calling the reduction.\n",
      "  filtroData = novoData[(novoData['Nota_aprovacao'] > 100) | (novoData['Vagas'] >= 32)].std(axis=0)\n"
     ]
    },
    {
     "data": {
      "text/plain": [
       "Vagas             20.132892\n",
       "Nota_aprovacao    24.494897\n",
       "dtype: float64"
      ]
     },
     "execution_count": 109,
     "metadata": {},
     "output_type": "execute_result"
    }
   ],
   "source": [
    "filtroData = novoData[(novoData['Nota_aprovacao'] > 100) | (novoData['Vagas'] >= 32)].std(axis=0)\n",
    "filtroData"
   ]
  },
  {
   "cell_type": "code",
   "execution_count": 111,
   "id": "d2f22150",
   "metadata": {},
   "outputs": [
    {
     "name": "stdout",
     "output_type": "stream",
     "text": [
      "Collecting seaborn"
     ]
    },
    {
     "name": "stderr",
     "output_type": "stream",
     "text": [
      "WARNING: You are using pip version 21.1.3; however, version 21.2.4 is available.\n",
      "You should consider upgrading via the 'c:\\users\\cris\\appdata\\local\\programs\\python\\python39\\python.exe -m pip install --upgrade pip' command.\n"
     ]
    },
    {
     "name": "stdout",
     "output_type": "stream",
     "text": [
      "\n",
      "  Downloading seaborn-0.11.2-py3-none-any.whl (292 kB)\n",
      "Requirement already satisfied: pandas>=0.23 in c:\\users\\cris\\appdata\\local\\programs\\python\\python39\\lib\\site-packages (from seaborn) (1.3.1)\n",
      "Requirement already satisfied: matplotlib>=2.2 in c:\\users\\cris\\appdata\\local\\programs\\python\\python39\\lib\\site-packages (from seaborn) (3.4.2)\n",
      "Collecting scipy>=1.0\n",
      "  Downloading scipy-1.7.1-cp39-cp39-win_amd64.whl (33.8 MB)\n",
      "Requirement already satisfied: numpy>=1.15 in c:\\users\\cris\\appdata\\local\\programs\\python\\python39\\lib\\site-packages (from seaborn) (1.21.1)\n",
      "Requirement already satisfied: cycler>=0.10 in c:\\users\\cris\\appdata\\local\\programs\\python\\python39\\lib\\site-packages (from matplotlib>=2.2->seaborn) (0.10.0)\n",
      "Requirement already satisfied: kiwisolver>=1.0.1 in c:\\users\\cris\\appdata\\local\\programs\\python\\python39\\lib\\site-packages (from matplotlib>=2.2->seaborn) (1.3.1)\n",
      "Requirement already satisfied: python-dateutil>=2.7 in c:\\users\\cris\\appdata\\local\\programs\\python\\python39\\lib\\site-packages (from matplotlib>=2.2->seaborn) (2.8.1)\n",
      "Requirement already satisfied: pillow>=6.2.0 in c:\\users\\cris\\appdata\\local\\programs\\python\\python39\\lib\\site-packages (from matplotlib>=2.2->seaborn) (8.3.1)\n",
      "Requirement already satisfied: pyparsing>=2.2.1 in c:\\users\\cris\\appdata\\local\\programs\\python\\python39\\lib\\site-packages (from matplotlib>=2.2->seaborn) (2.4.7)\n",
      "Requirement already satisfied: six in c:\\users\\cris\\appdata\\local\\programs\\python\\python39\\lib\\site-packages (from cycler>=0.10->matplotlib>=2.2->seaborn) (1.16.0)\n",
      "Requirement already satisfied: pytz>=2017.3 in c:\\users\\cris\\appdata\\local\\programs\\python\\python39\\lib\\site-packages (from pandas>=0.23->seaborn) (2021.1)\n",
      "Installing collected packages: scipy, seaborn\n",
      "Successfully installed scipy-1.7.1 seaborn-0.11.2\n"
     ]
    }
   ],
   "source": [
    "!pip install seaborn"
   ]
  },
  {
   "cell_type": "code",
   "execution_count": 121,
   "id": "91d30a0c",
   "metadata": {},
   "outputs": [],
   "source": [
    "# Pra salvar o arquivo final, basta utlizar .to_csv()\n",
    "\n",
    "novoData.to_csv('Tabela_de_Cursos.csv', sep='\\t', index=False)\n"
   ]
  },
  {
   "cell_type": "code",
   "execution_count": null,
   "id": "128318ab",
   "metadata": {},
   "outputs": [],
   "source": []
  }
 ],
 "metadata": {
  "kernelspec": {
   "display_name": "Python 3 (ipykernel)",
   "language": "python",
   "name": "python3"
  },
  "language_info": {
   "codemirror_mode": {
    "name": "ipython",
    "version": 3
   },
   "file_extension": ".py",
   "mimetype": "text/x-python",
   "name": "python",
   "nbconvert_exporter": "python",
   "pygments_lexer": "ipython3",
   "version": "3.9.6"
  }
 },
 "nbformat": 4,
 "nbformat_minor": 5
}
